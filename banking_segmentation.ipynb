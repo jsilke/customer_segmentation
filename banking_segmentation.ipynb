{
 "cells": [
  {
   "cell_type": "markdown",
   "metadata": {},
   "source": [
    "# Financial Segmentation\n",
    "---"
   ]
  },
  {
   "cell_type": "code",
   "execution_count": 1,
   "metadata": {},
   "outputs": [],
   "source": [
    "import numpy as np\n",
    "import pandas as pd\n",
    "import seaborn as sns\n",
    "import matplotlib.pyplot as plt\n",
    "\n",
    "plt.style.use('dark_background')"
   ]
  },
  {
   "cell_type": "code",
   "execution_count": 2,
   "metadata": {},
   "outputs": [],
   "source": [
    "transactions = pd.read_csv('data/twm_transactions.csv', delimiter=';')\n",
    "accounts = pd.read_csv('data/twm_accounts.csv', delimiter=';')\n",
    "customers = pd.read_csv('data/twm_customer.csv', delimiter=';')"
   ]
  },
  {
   "cell_type": "code",
   "execution_count": 3,
   "metadata": {},
   "outputs": [],
   "source": [
    "regions = ['W', 'MW', 'S', 'NE']\n",
    "\n",
    "state_to_region = {\n",
    "    'NV': 'W',\n",
    "    'CA': 'W',\n",
    "    'NY': 'NE',\n",
    "    'IL': 'MW',\n",
    "    'HI': 'W',\n",
    "    'DC': 'S',\n",
    "    'TX': 'S',\n",
    "    'PA': 'NE',\n",
    "    'OR': 'W',\n",
    "    'OH': 'MW',\n",
    "    'WA': 'W',\n",
    "    'NJ': 'NE',\n",
    "    'IN': 'MW',\n",
    "    'CO': 'W',\n",
    "    'WI': 'MW',\n",
    "    'MI': 'MW',\n",
    "    'NB': 'MW',\n",
    "    'AZ': 'W',\n",
    "    'MN': 'MW',\n",
    "    'TN': 'S',\n",
    "    'VA': 'S',\n",
    "    'FL': 'S',\n",
    "    'MD': 'S',\n",
    "    'MO': 'W',\n",
    "    'LA': 'S',\n",
    "    'KY': 'S',\n",
    "    'OK': 'S',\n",
    "    'MA': 'NE',\n",
    "    'GA': 'S',\n",
    "    'KS': 'MW',\n",
    "    'NC': 'S',\n",
    "    'NM': 'W',\n",
    "    'AL': 'S'\n",
    "}"
   ]
  },
  {
   "cell_type": "markdown",
   "metadata": {},
   "source": [
    "## EDA"
   ]
  },
  {
   "cell_type": "markdown",
   "metadata": {},
   "source": [
    "### Overview"
   ]
  },
  {
   "cell_type": "code",
   "execution_count": 4,
   "metadata": {},
   "outputs": [
    {
     "data": {
      "text/html": [
       "<div>\n",
       "<style scoped>\n",
       "    .dataframe tbody tr th:only-of-type {\n",
       "        vertical-align: middle;\n",
       "    }\n",
       "\n",
       "    .dataframe tbody tr th {\n",
       "        vertical-align: top;\n",
       "    }\n",
       "\n",
       "    .dataframe thead th {\n",
       "        text-align: right;\n",
       "    }\n",
       "</style>\n",
       "<table border=\"1\" class=\"dataframe\">\n",
       "  <thead>\n",
       "    <tr style=\"text-align: right;\">\n",
       "      <th></th>\n",
       "      <th>tran_id</th>\n",
       "      <th>acct_nbr</th>\n",
       "      <th>tran_amt</th>\n",
       "      <th>principal_amt</th>\n",
       "      <th>interest_amt</th>\n",
       "      <th>new_balance</th>\n",
       "      <th>tran_date</th>\n",
       "      <th>tran_time</th>\n",
       "      <th>channel</th>\n",
       "      <th>tran_code</th>\n",
       "    </tr>\n",
       "  </thead>\n",
       "  <tbody>\n",
       "    <tr>\n",
       "      <th>0</th>\n",
       "      <td>27</td>\n",
       "      <td>13625623</td>\n",
       "      <td>0.00</td>\n",
       "      <td>0.00</td>\n",
       "      <td>0.0</td>\n",
       "      <td>3753.34</td>\n",
       "      <td>21.10.1995</td>\n",
       "      <td>121656</td>\n",
       "      <td>A</td>\n",
       "      <td>IQ</td>\n",
       "    </tr>\n",
       "    <tr>\n",
       "      <th>1</th>\n",
       "      <td>97</td>\n",
       "      <td>13628392</td>\n",
       "      <td>0.00</td>\n",
       "      <td>0.00</td>\n",
       "      <td>0.0</td>\n",
       "      <td>254.49</td>\n",
       "      <td>5.2.1995</td>\n",
       "      <td>153053</td>\n",
       "      <td>V</td>\n",
       "      <td>IQ</td>\n",
       "    </tr>\n",
       "    <tr>\n",
       "      <th>2</th>\n",
       "      <td>21</td>\n",
       "      <td>13630842</td>\n",
       "      <td>-97.57</td>\n",
       "      <td>-97.57</td>\n",
       "      <td>0.0</td>\n",
       "      <td>3819.56</td>\n",
       "      <td>23.7.1995</td>\n",
       "      <td>0</td>\n",
       "      <td>P</td>\n",
       "      <td>WD</td>\n",
       "    </tr>\n",
       "    <tr>\n",
       "      <th>3</th>\n",
       "      <td>44</td>\n",
       "      <td>13631412</td>\n",
       "      <td>-0.15</td>\n",
       "      <td>-0.15</td>\n",
       "      <td>0.0</td>\n",
       "      <td>224.05</td>\n",
       "      <td>30.1.1995</td>\n",
       "      <td>0</td>\n",
       "      <td></td>\n",
       "      <td>FK</td>\n",
       "    </tr>\n",
       "    <tr>\n",
       "      <th>4</th>\n",
       "      <td>31</td>\n",
       "      <td>13625722</td>\n",
       "      <td>0.00</td>\n",
       "      <td>0.00</td>\n",
       "      <td>0.0</td>\n",
       "      <td>240.55</td>\n",
       "      <td>25.1.1995</td>\n",
       "      <td>204521</td>\n",
       "      <td>B</td>\n",
       "      <td>IQ</td>\n",
       "    </tr>\n",
       "  </tbody>\n",
       "</table>\n",
       "</div>"
      ],
      "text/plain": [
       "   tran_id  acct_nbr  tran_amt  principal_amt  interest_amt  new_balance  \\\n",
       "0       27  13625623      0.00           0.00           0.0      3753.34   \n",
       "1       97  13628392      0.00           0.00           0.0       254.49   \n",
       "2       21  13630842    -97.57         -97.57           0.0      3819.56   \n",
       "3       44  13631412     -0.15          -0.15           0.0       224.05   \n",
       "4       31  13625722      0.00           0.00           0.0       240.55   \n",
       "\n",
       "    tran_date  tran_time channel tran_code  \n",
       "0  21.10.1995     121656      A       IQ    \n",
       "1    5.2.1995     153053      V       IQ    \n",
       "2   23.7.1995          0      P       WD    \n",
       "3   30.1.1995          0              FK    \n",
       "4   25.1.1995     204521      B       IQ    "
      ]
     },
     "execution_count": 4,
     "metadata": {},
     "output_type": "execute_result"
    }
   ],
   "source": [
    "transactions.head()"
   ]
  },
  {
   "cell_type": "code",
   "execution_count": 5,
   "metadata": {},
   "outputs": [
    {
     "name": "stdout",
     "output_type": "stream",
     "text": [
      "<class 'pandas.core.frame.DataFrame'>\n",
      "RangeIndex: 77580 entries, 0 to 77579\n",
      "Data columns (total 10 columns):\n",
      " #   Column         Non-Null Count  Dtype  \n",
      "---  ------         --------------  -----  \n",
      " 0   tran_id        77580 non-null  int64  \n",
      " 1   acct_nbr       77580 non-null  int64  \n",
      " 2   tran_amt       77580 non-null  float64\n",
      " 3   principal_amt  77580 non-null  float64\n",
      " 4   interest_amt   77580 non-null  float64\n",
      " 5   new_balance    77580 non-null  float64\n",
      " 6   tran_date      77580 non-null  object \n",
      " 7   tran_time      77580 non-null  int64  \n",
      " 8   channel        77580 non-null  object \n",
      " 9   tran_code      77580 non-null  object \n",
      "dtypes: float64(4), int64(3), object(3)\n",
      "memory usage: 5.9+ MB\n"
     ]
    }
   ],
   "source": [
    "transactions.info()"
   ]
  },
  {
   "cell_type": "code",
   "execution_count": 6,
   "metadata": {},
   "outputs": [
    {
     "data": {
      "text/html": [
       "<div>\n",
       "<style scoped>\n",
       "    .dataframe tbody tr th:only-of-type {\n",
       "        vertical-align: middle;\n",
       "    }\n",
       "\n",
       "    .dataframe tbody tr th {\n",
       "        vertical-align: top;\n",
       "    }\n",
       "\n",
       "    .dataframe thead th {\n",
       "        text-align: right;\n",
       "    }\n",
       "</style>\n",
       "<table border=\"1\" class=\"dataframe\">\n",
       "  <thead>\n",
       "    <tr style=\"text-align: right;\">\n",
       "      <th></th>\n",
       "      <th>acct_nbr</th>\n",
       "      <th>cust_id</th>\n",
       "      <th>acct_type</th>\n",
       "      <th>account_active</th>\n",
       "      <th>acct_start_date</th>\n",
       "      <th>acct_end_date</th>\n",
       "      <th>starting_balance</th>\n",
       "      <th>ending_balance</th>\n",
       "    </tr>\n",
       "  </thead>\n",
       "  <tbody>\n",
       "    <tr>\n",
       "      <th>0</th>\n",
       "      <td>13628063</td>\n",
       "      <td>1362806</td>\n",
       "      <td>SV</td>\n",
       "      <td>Y</td>\n",
       "      <td>10.12.1995</td>\n",
       "      <td>NaN</td>\n",
       "      <td>1430.22</td>\n",
       "      <td>284.58</td>\n",
       "    </tr>\n",
       "    <tr>\n",
       "      <th>1</th>\n",
       "      <td>4561143213627090</td>\n",
       "      <td>1362709</td>\n",
       "      <td>CC</td>\n",
       "      <td>Y</td>\n",
       "      <td>15.3.1993</td>\n",
       "      <td>NaN</td>\n",
       "      <td>266.34</td>\n",
       "      <td>496.15</td>\n",
       "    </tr>\n",
       "    <tr>\n",
       "      <th>2</th>\n",
       "      <td>4561143213628360</td>\n",
       "      <td>1362836</td>\n",
       "      <td>CC</td>\n",
       "      <td>Y</td>\n",
       "      <td>18.3.1992</td>\n",
       "      <td>NaN</td>\n",
       "      <td>55.90</td>\n",
       "      <td>1000.00</td>\n",
       "    </tr>\n",
       "    <tr>\n",
       "      <th>3</th>\n",
       "      <td>13633112</td>\n",
       "      <td>1363311</td>\n",
       "      <td>CK</td>\n",
       "      <td>Y</td>\n",
       "      <td>6.7.1995</td>\n",
       "      <td>NaN</td>\n",
       "      <td>11017.13</td>\n",
       "      <td>968.46</td>\n",
       "    </tr>\n",
       "    <tr>\n",
       "      <th>4</th>\n",
       "      <td>4561143213633610</td>\n",
       "      <td>1363361</td>\n",
       "      <td>CC</td>\n",
       "      <td>Y</td>\n",
       "      <td>17.6.1994</td>\n",
       "      <td>NaN</td>\n",
       "      <td>849.37</td>\n",
       "      <td>462.28</td>\n",
       "    </tr>\n",
       "  </tbody>\n",
       "</table>\n",
       "</div>"
      ],
      "text/plain": [
       "           acct_nbr  cust_id acct_type account_active acct_start_date  \\\n",
       "0          13628063  1362806      SV               Y       10.12.1995   \n",
       "1  4561143213627090  1362709      CC               Y        15.3.1993   \n",
       "2  4561143213628360  1362836      CC               Y        18.3.1992   \n",
       "3          13633112  1363311      CK               Y         6.7.1995   \n",
       "4  4561143213633610  1363361      CC               Y        17.6.1994   \n",
       "\n",
       "  acct_end_date  starting_balance  ending_balance  \n",
       "0           NaN           1430.22          284.58  \n",
       "1           NaN            266.34          496.15  \n",
       "2           NaN             55.90         1000.00  \n",
       "3           NaN          11017.13          968.46  \n",
       "4           NaN            849.37          462.28  "
      ]
     },
     "execution_count": 6,
     "metadata": {},
     "output_type": "execute_result"
    }
   ],
   "source": [
    "accounts.head()"
   ]
  },
  {
   "cell_type": "code",
   "execution_count": 7,
   "metadata": {},
   "outputs": [
    {
     "name": "stdout",
     "output_type": "stream",
     "text": [
      "<class 'pandas.core.frame.DataFrame'>\n",
      "RangeIndex: 1409 entries, 0 to 1408\n",
      "Data columns (total 8 columns):\n",
      " #   Column            Non-Null Count  Dtype  \n",
      "---  ------            --------------  -----  \n",
      " 0   acct_nbr          1409 non-null   int64  \n",
      " 1   cust_id           1409 non-null   int64  \n",
      " 2   acct_type         1409 non-null   object \n",
      " 3   account_active    1409 non-null   object \n",
      " 4   acct_start_date   1409 non-null   object \n",
      " 5   acct_end_date     143 non-null    object \n",
      " 6   starting_balance  1409 non-null   float64\n",
      " 7   ending_balance    1409 non-null   float64\n",
      "dtypes: float64(2), int64(2), object(4)\n",
      "memory usage: 88.2+ KB\n"
     ]
    }
   ],
   "source": [
    "accounts.info()"
   ]
  },
  {
   "cell_type": "code",
   "execution_count": 8,
   "metadata": {},
   "outputs": [
    {
     "name": "stdout",
     "output_type": "stream",
     "text": [
      "A total of 665 customers hold 1409 accounts.\n",
      "On average, each customer has 2 accounts.\n"
     ]
    }
   ],
   "source": [
    "print(f'A total of {accounts.cust_id.nunique()} customers hold {accounts.acct_nbr.nunique()} accounts.\\nOn average, each customer has {accounts.acct_nbr.nunique()//accounts.cust_id.nunique()} accounts.')"
   ]
  },
  {
   "cell_type": "markdown",
   "metadata": {},
   "source": [
    "### Table joining"
   ]
  },
  {
   "cell_type": "code",
   "execution_count": 9,
   "metadata": {},
   "outputs": [],
   "source": [
    "data = transactions.merge(accounts, 'outer', on='acct_nbr')"
   ]
  },
  {
   "cell_type": "code",
   "execution_count": 10,
   "metadata": {},
   "outputs": [
    {
     "name": "stdout",
     "output_type": "stream",
     "text": [
      "<class 'pandas.core.frame.DataFrame'>\n",
      "Int64Index: 77592 entries, 0 to 77591\n",
      "Data columns (total 17 columns):\n",
      " #   Column            Non-Null Count  Dtype  \n",
      "---  ------            --------------  -----  \n",
      " 0   tran_id           77580 non-null  float64\n",
      " 1   acct_nbr          77592 non-null  int64  \n",
      " 2   tran_amt          77580 non-null  float64\n",
      " 3   principal_amt     77580 non-null  float64\n",
      " 4   interest_amt      77580 non-null  float64\n",
      " 5   new_balance       77580 non-null  float64\n",
      " 6   tran_date         77580 non-null  object \n",
      " 7   tran_time         77580 non-null  float64\n",
      " 8   channel           77580 non-null  object \n",
      " 9   tran_code         77580 non-null  object \n",
      " 10  cust_id           77572 non-null  float64\n",
      " 11  acct_type         77572 non-null  object \n",
      " 12  account_active    77572 non-null  object \n",
      " 13  acct_start_date   77572 non-null  object \n",
      " 14  acct_end_date     6856 non-null   object \n",
      " 15  starting_balance  77572 non-null  float64\n",
      " 16  ending_balance    77572 non-null  float64\n",
      "dtypes: float64(9), int64(1), object(7)\n",
      "memory usage: 10.7+ MB\n"
     ]
    }
   ],
   "source": [
    "data.info()"
   ]
  },
  {
   "cell_type": "code",
   "execution_count": 11,
   "metadata": {},
   "outputs": [],
   "source": [
    "data = data.merge(customers, 'outer', on='cust_id')"
   ]
  },
  {
   "cell_type": "code",
   "execution_count": 12,
   "metadata": {},
   "outputs": [
    {
     "name": "stdout",
     "output_type": "stream",
     "text": [
      "<class 'pandas.core.frame.DataFrame'>\n",
      "Int64Index: 77674 entries, 0 to 77673\n",
      "Data columns (total 31 columns):\n",
      " #   Column            Non-Null Count  Dtype  \n",
      "---  ------            --------------  -----  \n",
      " 0   tran_id           77580 non-null  float64\n",
      " 1   acct_nbr          77592 non-null  float64\n",
      " 2   tran_amt          77580 non-null  float64\n",
      " 3   principal_amt     77580 non-null  float64\n",
      " 4   interest_amt      77580 non-null  float64\n",
      " 5   new_balance       77580 non-null  float64\n",
      " 6   tran_date         77580 non-null  object \n",
      " 7   tran_time         77580 non-null  float64\n",
      " 8   channel           77580 non-null  object \n",
      " 9   tran_code         77580 non-null  object \n",
      " 10  cust_id           77654 non-null  float64\n",
      " 11  acct_type         77572 non-null  object \n",
      " 12  account_active    77572 non-null  object \n",
      " 13  acct_start_date   77572 non-null  object \n",
      " 14  acct_end_date     6856 non-null   object \n",
      " 15  starting_balance  77572 non-null  float64\n",
      " 16  ending_balance    77572 non-null  float64\n",
      " 17  income            77654 non-null  float64\n",
      " 18  age               77654 non-null  float64\n",
      " 19  years_with_bank   77654 non-null  float64\n",
      " 20  nbr_children      77654 non-null  float64\n",
      " 21  gender            77654 non-null  object \n",
      " 22  marital_status    77654 non-null  float64\n",
      " 23  name_prefix       77654 non-null  object \n",
      " 24  first_name        77654 non-null  object \n",
      " 25  last_name         77654 non-null  object \n",
      " 26  street_nbr        77654 non-null  float64\n",
      " 27  street_name       77654 non-null  object \n",
      " 28  postal_code       77654 non-null  float64\n",
      " 29  city_name         77654 non-null  object \n",
      " 30  state_code        77654 non-null  object \n",
      "dtypes: float64(17), object(14)\n",
      "memory usage: 19.0+ MB\n"
     ]
    }
   ],
   "source": [
    "data.info()"
   ]
  },
  {
   "cell_type": "markdown",
   "metadata": {},
   "source": [
    "### Null filtering"
   ]
  },
  {
   "cell_type": "code",
   "execution_count": 13,
   "metadata": {},
   "outputs": [
    {
     "data": {
      "text/plain": [
       "acct_end_date       91.173366\n",
       "starting_balance     0.131318\n",
       "ending_balance       0.131318\n",
       "acct_start_date      0.131318\n",
       "account_active       0.131318\n",
       "acct_type            0.131318\n",
       "channel              0.121019\n",
       "tran_code            0.121019\n",
       "tran_id              0.121019\n",
       "tran_time            0.121019\n",
       "tran_date            0.121019\n",
       "new_balance          0.121019\n",
       "interest_amt         0.121019\n",
       "principal_amt        0.121019\n",
       "tran_amt             0.121019\n",
       "acct_nbr             0.105569\n",
       "name_prefix          0.025749\n",
       "city_name            0.025749\n",
       "postal_code          0.025749\n",
       "street_name          0.025749\n",
       "street_nbr           0.025749\n",
       "last_name            0.025749\n",
       "first_name           0.025749\n",
       "nbr_children         0.025749\n",
       "marital_status       0.025749\n",
       "gender               0.025749\n",
       "cust_id              0.025749\n",
       "years_with_bank      0.025749\n",
       "age                  0.025749\n",
       "income               0.025749\n",
       "state_code           0.025749\n",
       "dtype: float64"
      ]
     },
     "execution_count": 13,
     "metadata": {},
     "output_type": "execute_result"
    }
   ],
   "source": [
    "(100 * data.isnull().sum() / len(data)).sort_values(ascending=False)"
   ]
  },
  {
   "cell_type": "code",
   "execution_count": 17,
   "metadata": {},
   "outputs": [
    {
     "data": {
      "text/plain": [
       "array(['N '], dtype=object)"
      ]
     },
     "execution_count": 17,
     "metadata": {},
     "output_type": "execute_result"
    }
   ],
   "source": [
    "data[data['acct_end_date'].notnull()]['account_active'].unique()"
   ]
  },
  {
   "cell_type": "markdown",
   "metadata": {},
   "source": [
    "All closed accounts are accounted for in the account_active column and acct_end_date is mostly empty. For this analysis, it is safe to discard the acct_end_date feature."
   ]
  },
  {
   "cell_type": "code",
   "execution_count": 18,
   "metadata": {},
   "outputs": [],
   "source": [
    "data = data.drop('acct_end_date', axis=1)"
   ]
  },
  {
   "cell_type": "code",
   "execution_count": 32,
   "metadata": {},
   "outputs": [
    {
     "data": {
      "text/plain": [
       "0.14676725802713908"
      ]
     },
     "execution_count": 32,
     "metadata": {},
     "output_type": "execute_result"
    }
   ],
   "source": [
    "data.isnull().any(axis = 1).sum() / data.shape[0] * 100 # Check how many rows have null values relative to all observations."
   ]
  },
  {
   "cell_type": "markdown",
   "metadata": {},
   "source": [
    "Since only 114 rows have null values (< 0.15% of the dataframe), it is justifiable to drop the null containing rows."
   ]
  },
  {
   "cell_type": "code",
   "execution_count": 35,
   "metadata": {},
   "outputs": [
    {
     "name": "stdout",
     "output_type": "stream",
     "text": [
      "77674\n",
      "77560\n"
     ]
    }
   ],
   "source": [
    "print(data.shape[0])\n",
    "data = data.dropna()\n",
    "print(data.shape[0])"
   ]
  },
  {
   "cell_type": "code",
   "execution_count": 40,
   "metadata": {},
   "outputs": [
    {
     "data": {
      "text/plain": [
       "tran_id             0.0\n",
       "acct_nbr            0.0\n",
       "city_name           0.0\n",
       "postal_code         0.0\n",
       "street_name         0.0\n",
       "street_nbr          0.0\n",
       "last_name           0.0\n",
       "first_name          0.0\n",
       "name_prefix         0.0\n",
       "marital_status      0.0\n",
       "gender              0.0\n",
       "nbr_children        0.0\n",
       "years_with_bank     0.0\n",
       "age                 0.0\n",
       "income              0.0\n",
       "ending_balance      0.0\n",
       "starting_balance    0.0\n",
       "acct_start_date     0.0\n",
       "account_active      0.0\n",
       "acct_type           0.0\n",
       "cust_id             0.0\n",
       "tran_code           0.0\n",
       "channel             0.0\n",
       "tran_time           0.0\n",
       "tran_date           0.0\n",
       "new_balance         0.0\n",
       "interest_amt        0.0\n",
       "principal_amt       0.0\n",
       "tran_amt            0.0\n",
       "state_code          0.0\n",
       "dtype: float64"
      ]
     },
     "execution_count": 40,
     "metadata": {},
     "output_type": "execute_result"
    }
   ],
   "source": [
    "(100 * data.isnull().sum() / len(data)).sort_values(ascending=False) # sanity check"
   ]
  },
  {
   "cell_type": "markdown",
   "metadata": {},
   "source": [
    "### Categorical feature processing"
   ]
  },
  {
   "cell_type": "code",
   "execution_count": 41,
   "metadata": {},
   "outputs": [],
   "source": [
    "cat_data = data.select_dtypes('object')"
   ]
  },
  {
   "cell_type": "code",
   "execution_count": 42,
   "metadata": {},
   "outputs": [
    {
     "name": "stdout",
     "output_type": "stream",
     "text": [
      "<class 'pandas.core.frame.DataFrame'>\n",
      "Int64Index: 77560 entries, 0 to 77590\n",
      "Data columns (total 13 columns):\n",
      " #   Column           Non-Null Count  Dtype \n",
      "---  ------           --------------  ----- \n",
      " 0   tran_date        77560 non-null  object\n",
      " 1   channel          77560 non-null  object\n",
      " 2   tran_code        77560 non-null  object\n",
      " 3   acct_type        77560 non-null  object\n",
      " 4   account_active   77560 non-null  object\n",
      " 5   acct_start_date  77560 non-null  object\n",
      " 6   gender           77560 non-null  object\n",
      " 7   name_prefix      77560 non-null  object\n",
      " 8   first_name       77560 non-null  object\n",
      " 9   last_name        77560 non-null  object\n",
      " 10  street_name      77560 non-null  object\n",
      " 11  city_name        77560 non-null  object\n",
      " 12  state_code       77560 non-null  object\n",
      "dtypes: object(13)\n",
      "memory usage: 8.3+ MB\n"
     ]
    }
   ],
   "source": [
    "cat_data.info()"
   ]
  }
 ],
 "metadata": {
  "interpreter": {
   "hash": "8d6676aaa1277e38a8b007c79f4c02c0460f54b902bd054fa5584050907dc207"
  },
  "kernelspec": {
   "display_name": "Python 3.9.7 64-bit ('LHL': conda)",
   "language": "python",
   "name": "python3"
  },
  "language_info": {
   "codemirror_mode": {
    "name": "ipython",
    "version": 3
   },
   "file_extension": ".py",
   "mimetype": "text/x-python",
   "name": "python",
   "nbconvert_exporter": "python",
   "pygments_lexer": "ipython3",
   "version": "3.9.7"
  },
  "orig_nbformat": 4
 },
 "nbformat": 4,
 "nbformat_minor": 2
}
