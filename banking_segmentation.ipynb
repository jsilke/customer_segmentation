{
 "cells": [
  {
   "cell_type": "markdown",
   "metadata": {},
   "source": [
    "# Customer Segmentation\n",
    "---"
   ]
  },
  {
   "cell_type": "code",
   "execution_count": 1,
   "metadata": {},
   "outputs": [],
   "source": [
    "from EDA_snippets import * # custom script with a few convenience functions\n",
    "import numpy as np\n",
    "import pandas as pd\n",
    "import seaborn as sns\n",
    "import matplotlib.pyplot as plt\n",
    "\n",
    "plt.style.use('dark_background')"
   ]
  },
  {
   "cell_type": "code",
   "execution_count": 2,
   "metadata": {},
   "outputs": [],
   "source": [
    "# load in all core data\n",
    "transactions = pd.read_csv('data/twm_transactions.csv', delimiter=';')\n",
    "accounts = pd.read_csv('data/twm_accounts.csv', delimiter=';')\n",
    "customers = pd.read_csv('data/twm_customer.csv', delimiter=';')"
   ]
  },
  {
   "cell_type": "markdown",
   "metadata": {},
   "source": [
    "## EDA"
   ]
  },
  {
   "cell_type": "markdown",
   "metadata": {},
   "source": [
    "### Overview"
   ]
  },
  {
   "cell_type": "code",
   "execution_count": 3,
   "metadata": {},
   "outputs": [
    {
     "data": {
      "text/html": [
       "<div>\n",
       "<style scoped>\n",
       "    .dataframe tbody tr th:only-of-type {\n",
       "        vertical-align: middle;\n",
       "    }\n",
       "\n",
       "    .dataframe tbody tr th {\n",
       "        vertical-align: top;\n",
       "    }\n",
       "\n",
       "    .dataframe thead th {\n",
       "        text-align: right;\n",
       "    }\n",
       "</style>\n",
       "<table border=\"1\" class=\"dataframe\">\n",
       "  <thead>\n",
       "    <tr style=\"text-align: right;\">\n",
       "      <th></th>\n",
       "      <th>tran_id</th>\n",
       "      <th>acct_nbr</th>\n",
       "      <th>tran_amt</th>\n",
       "      <th>principal_amt</th>\n",
       "      <th>interest_amt</th>\n",
       "      <th>new_balance</th>\n",
       "      <th>tran_date</th>\n",
       "      <th>tran_time</th>\n",
       "      <th>channel</th>\n",
       "      <th>tran_code</th>\n",
       "    </tr>\n",
       "  </thead>\n",
       "  <tbody>\n",
       "    <tr>\n",
       "      <th>0</th>\n",
       "      <td>27</td>\n",
       "      <td>13625623</td>\n",
       "      <td>0.00</td>\n",
       "      <td>0.00</td>\n",
       "      <td>0.0</td>\n",
       "      <td>3753.34</td>\n",
       "      <td>21.10.1995</td>\n",
       "      <td>121656</td>\n",
       "      <td>A</td>\n",
       "      <td>IQ</td>\n",
       "    </tr>\n",
       "    <tr>\n",
       "      <th>1</th>\n",
       "      <td>97</td>\n",
       "      <td>13628392</td>\n",
       "      <td>0.00</td>\n",
       "      <td>0.00</td>\n",
       "      <td>0.0</td>\n",
       "      <td>254.49</td>\n",
       "      <td>5.2.1995</td>\n",
       "      <td>153053</td>\n",
       "      <td>V</td>\n",
       "      <td>IQ</td>\n",
       "    </tr>\n",
       "    <tr>\n",
       "      <th>2</th>\n",
       "      <td>21</td>\n",
       "      <td>13630842</td>\n",
       "      <td>-97.57</td>\n",
       "      <td>-97.57</td>\n",
       "      <td>0.0</td>\n",
       "      <td>3819.56</td>\n",
       "      <td>23.7.1995</td>\n",
       "      <td>0</td>\n",
       "      <td>P</td>\n",
       "      <td>WD</td>\n",
       "    </tr>\n",
       "    <tr>\n",
       "      <th>3</th>\n",
       "      <td>44</td>\n",
       "      <td>13631412</td>\n",
       "      <td>-0.15</td>\n",
       "      <td>-0.15</td>\n",
       "      <td>0.0</td>\n",
       "      <td>224.05</td>\n",
       "      <td>30.1.1995</td>\n",
       "      <td>0</td>\n",
       "      <td></td>\n",
       "      <td>FK</td>\n",
       "    </tr>\n",
       "    <tr>\n",
       "      <th>4</th>\n",
       "      <td>31</td>\n",
       "      <td>13625722</td>\n",
       "      <td>0.00</td>\n",
       "      <td>0.00</td>\n",
       "      <td>0.0</td>\n",
       "      <td>240.55</td>\n",
       "      <td>25.1.1995</td>\n",
       "      <td>204521</td>\n",
       "      <td>B</td>\n",
       "      <td>IQ</td>\n",
       "    </tr>\n",
       "  </tbody>\n",
       "</table>\n",
       "</div>"
      ],
      "text/plain": [
       "   tran_id  acct_nbr  tran_amt  principal_amt  interest_amt  new_balance  \\\n",
       "0       27  13625623      0.00           0.00           0.0      3753.34   \n",
       "1       97  13628392      0.00           0.00           0.0       254.49   \n",
       "2       21  13630842    -97.57         -97.57           0.0      3819.56   \n",
       "3       44  13631412     -0.15          -0.15           0.0       224.05   \n",
       "4       31  13625722      0.00           0.00           0.0       240.55   \n",
       "\n",
       "    tran_date  tran_time channel tran_code  \n",
       "0  21.10.1995     121656      A       IQ    \n",
       "1    5.2.1995     153053      V       IQ    \n",
       "2   23.7.1995          0      P       WD    \n",
       "3   30.1.1995          0              FK    \n",
       "4   25.1.1995     204521      B       IQ    "
      ]
     },
     "execution_count": 3,
     "metadata": {},
     "output_type": "execute_result"
    }
   ],
   "source": [
    "transactions.head()"
   ]
  },
  {
   "cell_type": "code",
   "execution_count": 4,
   "metadata": {},
   "outputs": [
    {
     "name": "stdout",
     "output_type": "stream",
     "text": [
      "<class 'pandas.core.frame.DataFrame'>\n",
      "RangeIndex: 77580 entries, 0 to 77579\n",
      "Data columns (total 10 columns):\n",
      " #   Column         Non-Null Count  Dtype  \n",
      "---  ------         --------------  -----  \n",
      " 0   tran_id        77580 non-null  int64  \n",
      " 1   acct_nbr       77580 non-null  int64  \n",
      " 2   tran_amt       77580 non-null  float64\n",
      " 3   principal_amt  77580 non-null  float64\n",
      " 4   interest_amt   77580 non-null  float64\n",
      " 5   new_balance    77580 non-null  float64\n",
      " 6   tran_date      77580 non-null  object \n",
      " 7   tran_time      77580 non-null  int64  \n",
      " 8   channel        77580 non-null  object \n",
      " 9   tran_code      77580 non-null  object \n",
      "dtypes: float64(4), int64(3), object(3)\n",
      "memory usage: 5.9+ MB\n"
     ]
    }
   ],
   "source": [
    "transactions.info()"
   ]
  },
  {
   "cell_type": "code",
   "execution_count": 5,
   "metadata": {},
   "outputs": [
    {
     "data": {
      "text/html": [
       "<div>\n",
       "<style scoped>\n",
       "    .dataframe tbody tr th:only-of-type {\n",
       "        vertical-align: middle;\n",
       "    }\n",
       "\n",
       "    .dataframe tbody tr th {\n",
       "        vertical-align: top;\n",
       "    }\n",
       "\n",
       "    .dataframe thead th {\n",
       "        text-align: right;\n",
       "    }\n",
       "</style>\n",
       "<table border=\"1\" class=\"dataframe\">\n",
       "  <thead>\n",
       "    <tr style=\"text-align: right;\">\n",
       "      <th></th>\n",
       "      <th>acct_nbr</th>\n",
       "      <th>cust_id</th>\n",
       "      <th>acct_type</th>\n",
       "      <th>account_active</th>\n",
       "      <th>acct_start_date</th>\n",
       "      <th>acct_end_date</th>\n",
       "      <th>starting_balance</th>\n",
       "      <th>ending_balance</th>\n",
       "    </tr>\n",
       "  </thead>\n",
       "  <tbody>\n",
       "    <tr>\n",
       "      <th>0</th>\n",
       "      <td>13628063</td>\n",
       "      <td>1362806</td>\n",
       "      <td>SV</td>\n",
       "      <td>Y</td>\n",
       "      <td>10.12.1995</td>\n",
       "      <td>NaN</td>\n",
       "      <td>1430.22</td>\n",
       "      <td>284.58</td>\n",
       "    </tr>\n",
       "    <tr>\n",
       "      <th>1</th>\n",
       "      <td>4561143213627090</td>\n",
       "      <td>1362709</td>\n",
       "      <td>CC</td>\n",
       "      <td>Y</td>\n",
       "      <td>15.3.1993</td>\n",
       "      <td>NaN</td>\n",
       "      <td>266.34</td>\n",
       "      <td>496.15</td>\n",
       "    </tr>\n",
       "    <tr>\n",
       "      <th>2</th>\n",
       "      <td>4561143213628360</td>\n",
       "      <td>1362836</td>\n",
       "      <td>CC</td>\n",
       "      <td>Y</td>\n",
       "      <td>18.3.1992</td>\n",
       "      <td>NaN</td>\n",
       "      <td>55.90</td>\n",
       "      <td>1000.00</td>\n",
       "    </tr>\n",
       "    <tr>\n",
       "      <th>3</th>\n",
       "      <td>13633112</td>\n",
       "      <td>1363311</td>\n",
       "      <td>CK</td>\n",
       "      <td>Y</td>\n",
       "      <td>6.7.1995</td>\n",
       "      <td>NaN</td>\n",
       "      <td>11017.13</td>\n",
       "      <td>968.46</td>\n",
       "    </tr>\n",
       "    <tr>\n",
       "      <th>4</th>\n",
       "      <td>4561143213633610</td>\n",
       "      <td>1363361</td>\n",
       "      <td>CC</td>\n",
       "      <td>Y</td>\n",
       "      <td>17.6.1994</td>\n",
       "      <td>NaN</td>\n",
       "      <td>849.37</td>\n",
       "      <td>462.28</td>\n",
       "    </tr>\n",
       "  </tbody>\n",
       "</table>\n",
       "</div>"
      ],
      "text/plain": [
       "           acct_nbr  cust_id acct_type account_active acct_start_date  \\\n",
       "0          13628063  1362806      SV               Y       10.12.1995   \n",
       "1  4561143213627090  1362709      CC               Y        15.3.1993   \n",
       "2  4561143213628360  1362836      CC               Y        18.3.1992   \n",
       "3          13633112  1363311      CK               Y         6.7.1995   \n",
       "4  4561143213633610  1363361      CC               Y        17.6.1994   \n",
       "\n",
       "  acct_end_date  starting_balance  ending_balance  \n",
       "0           NaN           1430.22          284.58  \n",
       "1           NaN            266.34          496.15  \n",
       "2           NaN             55.90         1000.00  \n",
       "3           NaN          11017.13          968.46  \n",
       "4           NaN            849.37          462.28  "
      ]
     },
     "execution_count": 5,
     "metadata": {},
     "output_type": "execute_result"
    }
   ],
   "source": [
    "accounts.head()"
   ]
  },
  {
   "cell_type": "code",
   "execution_count": 6,
   "metadata": {},
   "outputs": [
    {
     "name": "stdout",
     "output_type": "stream",
     "text": [
      "<class 'pandas.core.frame.DataFrame'>\n",
      "RangeIndex: 1409 entries, 0 to 1408\n",
      "Data columns (total 8 columns):\n",
      " #   Column            Non-Null Count  Dtype  \n",
      "---  ------            --------------  -----  \n",
      " 0   acct_nbr          1409 non-null   int64  \n",
      " 1   cust_id           1409 non-null   int64  \n",
      " 2   acct_type         1409 non-null   object \n",
      " 3   account_active    1409 non-null   object \n",
      " 4   acct_start_date   1409 non-null   object \n",
      " 5   acct_end_date     143 non-null    object \n",
      " 6   starting_balance  1409 non-null   float64\n",
      " 7   ending_balance    1409 non-null   float64\n",
      "dtypes: float64(2), int64(2), object(4)\n",
      "memory usage: 88.2+ KB\n"
     ]
    }
   ],
   "source": [
    "accounts.info()"
   ]
  },
  {
   "cell_type": "code",
   "execution_count": 7,
   "metadata": {},
   "outputs": [
    {
     "name": "stdout",
     "output_type": "stream",
     "text": [
      "A total of 665 customers hold 1409 accounts.\n",
      "On average, each customer has 2 accounts.\n"
     ]
    }
   ],
   "source": [
    "print(f'A total of {accounts.cust_id.nunique()} customers hold {accounts.acct_nbr.nunique()} accounts.\\nOn average, each customer has {accounts.acct_nbr.nunique()//accounts.cust_id.nunique()} accounts.')"
   ]
  },
  {
   "cell_type": "markdown",
   "metadata": {},
   "source": [
    "### Table joining"
   ]
  },
  {
   "cell_type": "code",
   "execution_count": 8,
   "metadata": {},
   "outputs": [],
   "source": [
    "data = transactions.merge(accounts, 'outer', on='acct_nbr')"
   ]
  },
  {
   "cell_type": "code",
   "execution_count": 9,
   "metadata": {},
   "outputs": [
    {
     "name": "stdout",
     "output_type": "stream",
     "text": [
      "<class 'pandas.core.frame.DataFrame'>\n",
      "Int64Index: 77592 entries, 0 to 77591\n",
      "Data columns (total 17 columns):\n",
      " #   Column            Non-Null Count  Dtype  \n",
      "---  ------            --------------  -----  \n",
      " 0   tran_id           77580 non-null  float64\n",
      " 1   acct_nbr          77592 non-null  int64  \n",
      " 2   tran_amt          77580 non-null  float64\n",
      " 3   principal_amt     77580 non-null  float64\n",
      " 4   interest_amt      77580 non-null  float64\n",
      " 5   new_balance       77580 non-null  float64\n",
      " 6   tran_date         77580 non-null  object \n",
      " 7   tran_time         77580 non-null  float64\n",
      " 8   channel           77580 non-null  object \n",
      " 9   tran_code         77580 non-null  object \n",
      " 10  cust_id           77572 non-null  float64\n",
      " 11  acct_type         77572 non-null  object \n",
      " 12  account_active    77572 non-null  object \n",
      " 13  acct_start_date   77572 non-null  object \n",
      " 14  acct_end_date     6856 non-null   object \n",
      " 15  starting_balance  77572 non-null  float64\n",
      " 16  ending_balance    77572 non-null  float64\n",
      "dtypes: float64(9), int64(1), object(7)\n",
      "memory usage: 10.7+ MB\n"
     ]
    }
   ],
   "source": [
    "data.info()"
   ]
  },
  {
   "cell_type": "code",
   "execution_count": 10,
   "metadata": {},
   "outputs": [],
   "source": [
    "data = data.merge(customers, 'outer', on='cust_id')"
   ]
  },
  {
   "cell_type": "code",
   "execution_count": 11,
   "metadata": {},
   "outputs": [
    {
     "name": "stdout",
     "output_type": "stream",
     "text": [
      "<class 'pandas.core.frame.DataFrame'>\n",
      "Int64Index: 77674 entries, 0 to 77673\n",
      "Data columns (total 31 columns):\n",
      " #   Column            Non-Null Count  Dtype  \n",
      "---  ------            --------------  -----  \n",
      " 0   tran_id           77580 non-null  float64\n",
      " 1   acct_nbr          77592 non-null  float64\n",
      " 2   tran_amt          77580 non-null  float64\n",
      " 3   principal_amt     77580 non-null  float64\n",
      " 4   interest_amt      77580 non-null  float64\n",
      " 5   new_balance       77580 non-null  float64\n",
      " 6   tran_date         77580 non-null  object \n",
      " 7   tran_time         77580 non-null  float64\n",
      " 8   channel           77580 non-null  object \n",
      " 9   tran_code         77580 non-null  object \n",
      " 10  cust_id           77654 non-null  float64\n",
      " 11  acct_type         77572 non-null  object \n",
      " 12  account_active    77572 non-null  object \n",
      " 13  acct_start_date   77572 non-null  object \n",
      " 14  acct_end_date     6856 non-null   object \n",
      " 15  starting_balance  77572 non-null  float64\n",
      " 16  ending_balance    77572 non-null  float64\n",
      " 17  income            77654 non-null  float64\n",
      " 18  age               77654 non-null  float64\n",
      " 19  years_with_bank   77654 non-null  float64\n",
      " 20  nbr_children      77654 non-null  float64\n",
      " 21  gender            77654 non-null  object \n",
      " 22  marital_status    77654 non-null  float64\n",
      " 23  name_prefix       77654 non-null  object \n",
      " 24  first_name        77654 non-null  object \n",
      " 25  last_name         77654 non-null  object \n",
      " 26  street_nbr        77654 non-null  float64\n",
      " 27  street_name       77654 non-null  object \n",
      " 28  postal_code       77654 non-null  float64\n",
      " 29  city_name         77654 non-null  object \n",
      " 30  state_code        77654 non-null  object \n",
      "dtypes: float64(17), object(14)\n",
      "memory usage: 19.0+ MB\n"
     ]
    }
   ],
   "source": [
    "data.info()"
   ]
  },
  {
   "cell_type": "markdown",
   "metadata": {},
   "source": [
    "### Null filtering"
   ]
  },
  {
   "cell_type": "code",
   "execution_count": 12,
   "metadata": {},
   "outputs": [
    {
     "data": {
      "text/plain": [
       "acct_end_date       91.173366\n",
       "starting_balance     0.131318\n",
       "ending_balance       0.131318\n",
       "acct_start_date      0.131318\n",
       "account_active       0.131318\n",
       "acct_type            0.131318\n",
       "channel              0.121019\n",
       "tran_code            0.121019\n",
       "tran_id              0.121019\n",
       "tran_time            0.121019\n",
       "tran_date            0.121019\n",
       "new_balance          0.121019\n",
       "interest_amt         0.121019\n",
       "principal_amt        0.121019\n",
       "tran_amt             0.121019\n",
       "acct_nbr             0.105569\n",
       "name_prefix          0.025749\n",
       "city_name            0.025749\n",
       "postal_code          0.025749\n",
       "street_name          0.025749\n",
       "street_nbr           0.025749\n",
       "last_name            0.025749\n",
       "first_name           0.025749\n",
       "nbr_children         0.025749\n",
       "marital_status       0.025749\n",
       "gender               0.025749\n",
       "cust_id              0.025749\n",
       "years_with_bank      0.025749\n",
       "age                  0.025749\n",
       "income               0.025749\n",
       "state_code           0.025749\n",
       "dtype: float64"
      ]
     },
     "execution_count": 12,
     "metadata": {},
     "output_type": "execute_result"
    }
   ],
   "source": [
    "(100 * data.isnull().sum() / len(data)).sort_values(ascending=False)"
   ]
  },
  {
   "cell_type": "code",
   "execution_count": 13,
   "metadata": {},
   "outputs": [
    {
     "data": {
      "text/plain": [
       "array(['N '], dtype=object)"
      ]
     },
     "execution_count": 13,
     "metadata": {},
     "output_type": "execute_result"
    }
   ],
   "source": [
    "data[data['acct_end_date'].notnull()]['account_active'].unique()"
   ]
  },
  {
   "cell_type": "markdown",
   "metadata": {},
   "source": [
    "All closed accounts are accounted for in the account_active column and acct_end_date is mostly empty. For this analysis, it is safe to discard the acct_end_date feature."
   ]
  },
  {
   "cell_type": "code",
   "execution_count": 14,
   "metadata": {},
   "outputs": [],
   "source": [
    "data = data.drop('acct_end_date', axis=1)"
   ]
  },
  {
   "cell_type": "code",
   "execution_count": 15,
   "metadata": {},
   "outputs": [
    {
     "data": {
      "text/plain": [
       "0.14676725802713908"
      ]
     },
     "execution_count": 15,
     "metadata": {},
     "output_type": "execute_result"
    }
   ],
   "source": [
    "data.isnull().any(axis = 1).sum() / data.shape[0] * 100 # Check how many rows have null values relative to all observations."
   ]
  },
  {
   "cell_type": "markdown",
   "metadata": {},
   "source": [
    "Since only 114 rows have null values (< 0.15% of the dataframe), it may be justifiable to drop the null containing rows provided that we don't lose too much information."
   ]
  },
  {
   "cell_type": "code",
   "execution_count": 16,
   "metadata": {},
   "outputs": [
    {
     "name": "stdout",
     "output_type": "stream",
     "text": [
      "Percent Retained:\n",
      "\n",
      "Unique customers: 88.89\n",
      "Unique transactions: 100.00\n",
      "Unique accounts: 99.08\n",
      "Unique observations: 99.85\n"
     ]
    }
   ],
   "source": [
    "no_na_data = data.dropna()\n",
    "print(f'Percent Retained:\\n\\nUnique customers: {no_na_data.cust_id.nunique() / data.cust_id.nunique() * 100:.2f}\\nUnique transactions: {no_na_data.tran_id.nunique() / data.tran_id.nunique() * 100:.2f}\\nUnique accounts: {no_na_data.acct_nbr.nunique() / data.acct_nbr.nunique() * 100:.2f}\\nUnique observations: {no_na_data.shape[0] / data.shape[0] * 100:.2f}')"
   ]
  },
  {
   "cell_type": "markdown",
   "metadata": {},
   "source": [
    "Only the customer data were impacted substantially by filtering nulls, and the magnitude of that impact is limited to ~ 11%"
   ]
  },
  {
   "cell_type": "code",
   "execution_count": 17,
   "metadata": {},
   "outputs": [
    {
     "data": {
      "text/plain": [
       "tran_id          0.0\n",
       "acct_nbr         0.0\n",
       "tran_amt         0.0\n",
       "principal_amt    0.0\n",
       "interest_amt     0.0\n",
       "dtype: float64"
      ]
     },
     "execution_count": 17,
     "metadata": {},
     "output_type": "execute_result"
    }
   ],
   "source": [
    "(100 * no_na_data.isnull().sum() / len(no_na_data)).nlargest(5) # sanity check"
   ]
  },
  {
   "cell_type": "code",
   "execution_count": 18,
   "metadata": {},
   "outputs": [
    {
     "name": "stdout",
     "output_type": "stream",
     "text": [
      "<class 'pandas.core.frame.DataFrame'>\n",
      "Int64Index: 77560 entries, 0 to 77590\n",
      "Data columns (total 30 columns):\n",
      " #   Column            Non-Null Count  Dtype  \n",
      "---  ------            --------------  -----  \n",
      " 0   tran_id           77560 non-null  float64\n",
      " 1   acct_nbr          77560 non-null  float64\n",
      " 2   tran_amt          77560 non-null  float64\n",
      " 3   principal_amt     77560 non-null  float64\n",
      " 4   interest_amt      77560 non-null  float64\n",
      " 5   new_balance       77560 non-null  float64\n",
      " 6   tran_date         77560 non-null  object \n",
      " 7   tran_time         77560 non-null  float64\n",
      " 8   channel           77560 non-null  object \n",
      " 9   tran_code         77560 non-null  object \n",
      " 10  cust_id           77560 non-null  float64\n",
      " 11  acct_type         77560 non-null  object \n",
      " 12  account_active    77560 non-null  object \n",
      " 13  acct_start_date   77560 non-null  object \n",
      " 14  starting_balance  77560 non-null  float64\n",
      " 15  ending_balance    77560 non-null  float64\n",
      " 16  income            77560 non-null  float64\n",
      " 17  age               77560 non-null  float64\n",
      " 18  years_with_bank   77560 non-null  float64\n",
      " 19  nbr_children      77560 non-null  float64\n",
      " 20  gender            77560 non-null  object \n",
      " 21  marital_status    77560 non-null  float64\n",
      " 22  name_prefix       77560 non-null  object \n",
      " 23  first_name        77560 non-null  object \n",
      " 24  last_name         77560 non-null  object \n",
      " 25  street_nbr        77560 non-null  float64\n",
      " 26  street_name       77560 non-null  object \n",
      " 27  postal_code       77560 non-null  float64\n",
      " 28  city_name         77560 non-null  object \n",
      " 29  state_code        77560 non-null  object \n",
      "dtypes: float64(17), object(13)\n",
      "memory usage: 18.3+ MB\n"
     ]
    }
   ],
   "source": [
    "no_na_data.info()"
   ]
  },
  {
   "cell_type": "markdown",
   "metadata": {},
   "source": [
    "##### Who was impacted?"
   ]
  },
  {
   "cell_type": "code",
   "execution_count": 19,
   "metadata": {},
   "outputs": [
    {
     "name": "stdout",
     "output_type": "stream",
     "text": [
      "(84,)\n"
     ]
    }
   ],
   "source": [
    "filtered_customers = pd.Series([c_id for c_id in set(data.cust_id.unique()).symmetric_difference(set(no_na_data.cust_id.unique()))])\n",
    "print(filtered_customers.shape)\n",
    "filtered_customers = filtered_customers.dropna().reset_index()"
   ]
  },
  {
   "cell_type": "code",
   "execution_count": 20,
   "metadata": {},
   "outputs": [
    {
     "data": {
      "text/html": [
       "<div>\n",
       "<style scoped>\n",
       "    .dataframe tbody tr th:only-of-type {\n",
       "        vertical-align: middle;\n",
       "    }\n",
       "\n",
       "    .dataframe tbody tr th {\n",
       "        vertical-align: top;\n",
       "    }\n",
       "\n",
       "    .dataframe thead th {\n",
       "        text-align: right;\n",
       "    }\n",
       "</style>\n",
       "<table border=\"1\" class=\"dataframe\">\n",
       "  <thead>\n",
       "    <tr style=\"text-align: right;\">\n",
       "      <th></th>\n",
       "      <th>index</th>\n",
       "      <th>0</th>\n",
       "    </tr>\n",
       "  </thead>\n",
       "  <tbody>\n",
       "    <tr>\n",
       "      <th>0</th>\n",
       "      <td>1</td>\n",
       "      <td>1362481.0</td>\n",
       "    </tr>\n",
       "    <tr>\n",
       "      <th>1</th>\n",
       "      <td>2</td>\n",
       "      <td>1362504.0</td>\n",
       "    </tr>\n",
       "    <tr>\n",
       "      <th>2</th>\n",
       "      <td>3</td>\n",
       "      <td>1362527.0</td>\n",
       "    </tr>\n",
       "    <tr>\n",
       "      <th>3</th>\n",
       "      <td>4</td>\n",
       "      <td>1362543.0</td>\n",
       "    </tr>\n",
       "    <tr>\n",
       "      <th>4</th>\n",
       "      <td>5</td>\n",
       "      <td>1362558.0</td>\n",
       "    </tr>\n",
       "  </tbody>\n",
       "</table>\n",
       "</div>"
      ],
      "text/plain": [
       "   index          0\n",
       "0      1  1362481.0\n",
       "1      2  1362504.0\n",
       "2      3  1362527.0\n",
       "3      4  1362543.0\n",
       "4      5  1362558.0"
      ]
     },
     "execution_count": 20,
     "metadata": {},
     "output_type": "execute_result"
    }
   ],
   "source": [
    "filtered_customers.head()\n",
    "# TODO finish section"
   ]
  },
  {
   "cell_type": "markdown",
   "metadata": {},
   "source": [
    "### Feature selection"
   ]
  },
  {
   "cell_type": "code",
   "execution_count": 21,
   "metadata": {},
   "outputs": [],
   "source": [
    "# Limit the overall dataset to a more tractable feature space.\n",
    "no_na_data = no_na_data.drop(columns=['tran_id', 'acct_nbr', 'cust_id', 'name_prefix', 'first_name', 'last_name', 'street_nbr', 'postal_code', 'city_name', 'street_name', 'tran_time', 'acct_start_date'])"
   ]
  },
  {
   "cell_type": "markdown",
   "metadata": {},
   "source": [
    "### Categorical feature processing"
   ]
  },
  {
   "cell_type": "code",
   "execution_count": 22,
   "metadata": {},
   "outputs": [
    {
     "data": {
      "text/html": [
       "<div>\n",
       "<style scoped>\n",
       "    .dataframe tbody tr th:only-of-type {\n",
       "        vertical-align: middle;\n",
       "    }\n",
       "\n",
       "    .dataframe tbody tr th {\n",
       "        vertical-align: top;\n",
       "    }\n",
       "\n",
       "    .dataframe thead th {\n",
       "        text-align: right;\n",
       "    }\n",
       "</style>\n",
       "<table border=\"1\" class=\"dataframe\">\n",
       "  <thead>\n",
       "    <tr style=\"text-align: right;\">\n",
       "      <th></th>\n",
       "      <th>tran_date</th>\n",
       "      <th>channel</th>\n",
       "      <th>tran_code</th>\n",
       "      <th>acct_type</th>\n",
       "      <th>account_active</th>\n",
       "      <th>gender</th>\n",
       "      <th>state_code</th>\n",
       "    </tr>\n",
       "  </thead>\n",
       "  <tbody>\n",
       "    <tr>\n",
       "      <th>0</th>\n",
       "      <td>21.10.1995</td>\n",
       "      <td>A</td>\n",
       "      <td>IQ</td>\n",
       "      <td>SV</td>\n",
       "      <td>Y</td>\n",
       "      <td>F</td>\n",
       "      <td>CA</td>\n",
       "    </tr>\n",
       "    <tr>\n",
       "      <th>1</th>\n",
       "      <td>27.12.1995</td>\n",
       "      <td>B</td>\n",
       "      <td>DP</td>\n",
       "      <td>SV</td>\n",
       "      <td>Y</td>\n",
       "      <td>F</td>\n",
       "      <td>CA</td>\n",
       "    </tr>\n",
       "    <tr>\n",
       "      <th>2</th>\n",
       "      <td>28.2.1995</td>\n",
       "      <td></td>\n",
       "      <td>IN</td>\n",
       "      <td>SV</td>\n",
       "      <td>Y</td>\n",
       "      <td>F</td>\n",
       "      <td>CA</td>\n",
       "    </tr>\n",
       "    <tr>\n",
       "      <th>3</th>\n",
       "      <td>6.8.1995</td>\n",
       "      <td>A</td>\n",
       "      <td>WD</td>\n",
       "      <td>SV</td>\n",
       "      <td>Y</td>\n",
       "      <td>F</td>\n",
       "      <td>CA</td>\n",
       "    </tr>\n",
       "    <tr>\n",
       "      <th>4</th>\n",
       "      <td>21.10.1995</td>\n",
       "      <td>A</td>\n",
       "      <td>WD</td>\n",
       "      <td>SV</td>\n",
       "      <td>Y</td>\n",
       "      <td>F</td>\n",
       "      <td>CA</td>\n",
       "    </tr>\n",
       "    <tr>\n",
       "      <th>...</th>\n",
       "      <td>...</td>\n",
       "      <td>...</td>\n",
       "      <td>...</td>\n",
       "      <td>...</td>\n",
       "      <td>...</td>\n",
       "      <td>...</td>\n",
       "      <td>...</td>\n",
       "    </tr>\n",
       "    <tr>\n",
       "      <th>77586</th>\n",
       "      <td>20.1.1995</td>\n",
       "      <td>A</td>\n",
       "      <td>IQ</td>\n",
       "      <td>CK</td>\n",
       "      <td>Y</td>\n",
       "      <td>F</td>\n",
       "      <td>IN</td>\n",
       "    </tr>\n",
       "    <tr>\n",
       "      <th>77587</th>\n",
       "      <td>20.1.1995</td>\n",
       "      <td>P</td>\n",
       "      <td>WD</td>\n",
       "      <td>CK</td>\n",
       "      <td>Y</td>\n",
       "      <td>F</td>\n",
       "      <td>IN</td>\n",
       "    </tr>\n",
       "    <tr>\n",
       "      <th>77588</th>\n",
       "      <td>14.1.1995</td>\n",
       "      <td>P</td>\n",
       "      <td>WD</td>\n",
       "      <td>CK</td>\n",
       "      <td>Y</td>\n",
       "      <td>F</td>\n",
       "      <td>IN</td>\n",
       "    </tr>\n",
       "    <tr>\n",
       "      <th>77589</th>\n",
       "      <td>11.1.1995</td>\n",
       "      <td>P</td>\n",
       "      <td>WD</td>\n",
       "      <td>CK</td>\n",
       "      <td>Y</td>\n",
       "      <td>F</td>\n",
       "      <td>IN</td>\n",
       "    </tr>\n",
       "    <tr>\n",
       "      <th>77590</th>\n",
       "      <td>9.1.1995</td>\n",
       "      <td>P</td>\n",
       "      <td>WD</td>\n",
       "      <td>CK</td>\n",
       "      <td>Y</td>\n",
       "      <td>F</td>\n",
       "      <td>IN</td>\n",
       "    </tr>\n",
       "  </tbody>\n",
       "</table>\n",
       "<p>77560 rows × 7 columns</p>\n",
       "</div>"
      ],
      "text/plain": [
       "        tran_date channel tran_code acct_type account_active gender state_code\n",
       "0      21.10.1995      A       IQ        SV               Y      F        CA  \n",
       "1      27.12.1995      B       DP        SV               Y      F        CA  \n",
       "2       28.2.1995              IN        SV               Y      F        CA  \n",
       "3        6.8.1995      A       WD        SV               Y      F        CA  \n",
       "4      21.10.1995      A       WD        SV               Y      F        CA  \n",
       "...           ...     ...       ...       ...            ...    ...        ...\n",
       "77586   20.1.1995      A       IQ        CK               Y      F        IN  \n",
       "77587   20.1.1995      P       WD        CK               Y      F        IN  \n",
       "77588   14.1.1995      P       WD        CK               Y      F        IN  \n",
       "77589   11.1.1995      P       WD        CK               Y      F        IN  \n",
       "77590    9.1.1995      P       WD        CK               Y      F        IN  \n",
       "\n",
       "[77560 rows x 7 columns]"
      ]
     },
     "execution_count": 22,
     "metadata": {},
     "output_type": "execute_result"
    }
   ],
   "source": [
    "no_na_data.select_dtypes('object')"
   ]
  },
  {
   "cell_type": "markdown",
   "metadata": {},
   "source": [
    "Removing excess whitespace"
   ]
  },
  {
   "cell_type": "code",
   "execution_count": 23,
   "metadata": {},
   "outputs": [],
   "source": [
    "def remove_whitespace(df):\n",
    "    \"\"\"\n",
    "    Removes the whitespace from categorical data.\n",
    "    \"\"\"\n",
    "    for x in df.select_dtypes('object').columns:\n",
    "        df[x] = df[x].apply(lambda x: x.strip())\n",
    "    return df\n",
    "\n",
    "no_na_data = remove_whitespace(no_na_data)"
   ]
  },
  {
   "cell_type": "markdown",
   "metadata": {},
   "source": [
    "Converting locations to [officially recognized US regions](https://www.worldatlas.com/articles/the-officially-recognized-four-regions-and-nine-divisions-of-the-united-states.html)"
   ]
  },
  {
   "cell_type": "code",
   "execution_count": 24,
   "metadata": {},
   "outputs": [],
   "source": [
    "regions = ['W', 'MW', 'S', 'NE']\n",
    "\n",
    "state_to_region = {\n",
    "    'NV': 'W',\n",
    "    'CA': 'W',\n",
    "    'NY': 'NE',\n",
    "    'IL': 'MW',\n",
    "    'HI': 'W',\n",
    "    'DC': 'S',\n",
    "    'TX': 'S',\n",
    "    'PA': 'NE',\n",
    "    'OR': 'W',\n",
    "    'OH': 'MW',\n",
    "    'WA': 'W',\n",
    "    'NJ': 'NE',\n",
    "    'IN': 'MW',\n",
    "    'CO': 'W',\n",
    "    'WI': 'MW',\n",
    "    'MI': 'MW',\n",
    "    'NB': 'MW',\n",
    "    'AZ': 'W',\n",
    "    'MN': 'MW',\n",
    "    'TN': 'S',\n",
    "    'VA': 'S',\n",
    "    'FL': 'S',\n",
    "    'MD': 'S',\n",
    "    'MO': 'W',\n",
    "    'LA': 'S',\n",
    "    'KY': 'S',\n",
    "    'OK': 'S',\n",
    "    'MA': 'NE',\n",
    "    'GA': 'S',\n",
    "    'KS': 'MW',\n",
    "    'NC': 'S',\n",
    "    'NM': 'W',\n",
    "    'AL': 'S'\n",
    "}"
   ]
  },
  {
   "cell_type": "code",
   "execution_count": 25,
   "metadata": {},
   "outputs": [],
   "source": [
    "no_na_data['region'] = [state_to_region[state_code] for state_code in (no_na_data.state_code)]"
   ]
  },
  {
   "cell_type": "markdown",
   "metadata": {},
   "source": [
    "Filling in blank channel labels"
   ]
  },
  {
   "cell_type": "code",
   "execution_count": 26,
   "metadata": {},
   "outputs": [],
   "source": [
    "no_na_data['channel'] = no_na_data.channel.apply(lambda x: 'UNKNOWN' if (x == '') else x)"
   ]
  },
  {
   "cell_type": "markdown",
   "metadata": {},
   "source": [
    "Here we engineer the transaction week feature by considering the week of the year, which should offer more granularity relative to the month of the year."
   ]
  },
  {
   "cell_type": "code",
   "execution_count": 27,
   "metadata": {},
   "outputs": [],
   "source": [
    "no_na_data['tran_week'] = (pd.to_datetime(no_na_data['tran_date'])).dt.isocalendar().week"
   ]
  },
  {
   "cell_type": "code",
   "execution_count": 28,
   "metadata": {},
   "outputs": [],
   "source": [
    "no_na_data = no_na_data.drop(columns=['tran_date'])"
   ]
  },
  {
   "cell_type": "markdown",
   "metadata": {},
   "source": [
    "### Numeric feature processing"
   ]
  },
  {
   "cell_type": "code",
   "execution_count": 29,
   "metadata": {},
   "outputs": [
    {
     "data": {
      "text/html": [
       "<div>\n",
       "<style scoped>\n",
       "    .dataframe tbody tr th:only-of-type {\n",
       "        vertical-align: middle;\n",
       "    }\n",
       "\n",
       "    .dataframe tbody tr th {\n",
       "        vertical-align: top;\n",
       "    }\n",
       "\n",
       "    .dataframe thead th {\n",
       "        text-align: right;\n",
       "    }\n",
       "</style>\n",
       "<table border=\"1\" class=\"dataframe\">\n",
       "  <thead>\n",
       "    <tr style=\"text-align: right;\">\n",
       "      <th></th>\n",
       "      <th>tran_amt</th>\n",
       "      <th>principal_amt</th>\n",
       "      <th>interest_amt</th>\n",
       "      <th>new_balance</th>\n",
       "      <th>starting_balance</th>\n",
       "      <th>ending_balance</th>\n",
       "      <th>income</th>\n",
       "      <th>age</th>\n",
       "      <th>years_with_bank</th>\n",
       "      <th>nbr_children</th>\n",
       "      <th>marital_status</th>\n",
       "      <th>tran_week</th>\n",
       "    </tr>\n",
       "  </thead>\n",
       "  <tbody>\n",
       "    <tr>\n",
       "      <th>0</th>\n",
       "      <td>0.00</td>\n",
       "      <td>0.00</td>\n",
       "      <td>0.00</td>\n",
       "      <td>3753.34</td>\n",
       "      <td>391.96</td>\n",
       "      <td>3864.77</td>\n",
       "      <td>63532.0</td>\n",
       "      <td>46.0</td>\n",
       "      <td>6.0</td>\n",
       "      <td>0.0</td>\n",
       "      <td>1.0</td>\n",
       "      <td>42</td>\n",
       "    </tr>\n",
       "    <tr>\n",
       "      <th>1</th>\n",
       "      <td>140.63</td>\n",
       "      <td>140.63</td>\n",
       "      <td>0.00</td>\n",
       "      <td>3859.95</td>\n",
       "      <td>391.96</td>\n",
       "      <td>3864.77</td>\n",
       "      <td>63532.0</td>\n",
       "      <td>46.0</td>\n",
       "      <td>6.0</td>\n",
       "      <td>0.0</td>\n",
       "      <td>1.0</td>\n",
       "      <td>52</td>\n",
       "    </tr>\n",
       "    <tr>\n",
       "      <th>2</th>\n",
       "      <td>0.49</td>\n",
       "      <td>0.00</td>\n",
       "      <td>0.49</td>\n",
       "      <td>392.94</td>\n",
       "      <td>391.96</td>\n",
       "      <td>3864.77</td>\n",
       "      <td>63532.0</td>\n",
       "      <td>46.0</td>\n",
       "      <td>6.0</td>\n",
       "      <td>0.0</td>\n",
       "      <td>1.0</td>\n",
       "      <td>9</td>\n",
       "    </tr>\n",
       "    <tr>\n",
       "      <th>3</th>\n",
       "      <td>-120.00</td>\n",
       "      <td>-120.00</td>\n",
       "      <td>0.00</td>\n",
       "      <td>2253.68</td>\n",
       "      <td>391.96</td>\n",
       "      <td>3864.77</td>\n",
       "      <td>63532.0</td>\n",
       "      <td>46.0</td>\n",
       "      <td>6.0</td>\n",
       "      <td>0.0</td>\n",
       "      <td>1.0</td>\n",
       "      <td>23</td>\n",
       "    </tr>\n",
       "    <tr>\n",
       "      <th>4</th>\n",
       "      <td>-140.00</td>\n",
       "      <td>-140.00</td>\n",
       "      <td>0.00</td>\n",
       "      <td>3753.34</td>\n",
       "      <td>391.96</td>\n",
       "      <td>3864.77</td>\n",
       "      <td>63532.0</td>\n",
       "      <td>46.0</td>\n",
       "      <td>6.0</td>\n",
       "      <td>0.0</td>\n",
       "      <td>1.0</td>\n",
       "      <td>42</td>\n",
       "    </tr>\n",
       "    <tr>\n",
       "      <th>...</th>\n",
       "      <td>...</td>\n",
       "      <td>...</td>\n",
       "      <td>...</td>\n",
       "      <td>...</td>\n",
       "      <td>...</td>\n",
       "      <td>...</td>\n",
       "      <td>...</td>\n",
       "      <td>...</td>\n",
       "      <td>...</td>\n",
       "      <td>...</td>\n",
       "      <td>...</td>\n",
       "      <td>...</td>\n",
       "    </tr>\n",
       "    <tr>\n",
       "      <th>77586</th>\n",
       "      <td>0.00</td>\n",
       "      <td>0.00</td>\n",
       "      <td>0.00</td>\n",
       "      <td>2467.38</td>\n",
       "      <td>2812.23</td>\n",
       "      <td>222.56</td>\n",
       "      <td>10800.0</td>\n",
       "      <td>89.0</td>\n",
       "      <td>9.0</td>\n",
       "      <td>0.0</td>\n",
       "      <td>2.0</td>\n",
       "      <td>3</td>\n",
       "    </tr>\n",
       "    <tr>\n",
       "      <th>77587</th>\n",
       "      <td>-59.66</td>\n",
       "      <td>-59.66</td>\n",
       "      <td>0.00</td>\n",
       "      <td>2467.38</td>\n",
       "      <td>2812.23</td>\n",
       "      <td>222.56</td>\n",
       "      <td>10800.0</td>\n",
       "      <td>89.0</td>\n",
       "      <td>9.0</td>\n",
       "      <td>0.0</td>\n",
       "      <td>2.0</td>\n",
       "      <td>3</td>\n",
       "    </tr>\n",
       "    <tr>\n",
       "      <th>77588</th>\n",
       "      <td>-128.23</td>\n",
       "      <td>-128.23</td>\n",
       "      <td>0.00</td>\n",
       "      <td>2527.04</td>\n",
       "      <td>2812.23</td>\n",
       "      <td>222.56</td>\n",
       "      <td>10800.0</td>\n",
       "      <td>89.0</td>\n",
       "      <td>9.0</td>\n",
       "      <td>0.0</td>\n",
       "      <td>2.0</td>\n",
       "      <td>2</td>\n",
       "    </tr>\n",
       "    <tr>\n",
       "      <th>77589</th>\n",
       "      <td>-9.19</td>\n",
       "      <td>-9.19</td>\n",
       "      <td>0.00</td>\n",
       "      <td>2655.27</td>\n",
       "      <td>2812.23</td>\n",
       "      <td>222.56</td>\n",
       "      <td>10800.0</td>\n",
       "      <td>89.0</td>\n",
       "      <td>9.0</td>\n",
       "      <td>0.0</td>\n",
       "      <td>2.0</td>\n",
       "      <td>44</td>\n",
       "    </tr>\n",
       "    <tr>\n",
       "      <th>77590</th>\n",
       "      <td>-147.77</td>\n",
       "      <td>-147.77</td>\n",
       "      <td>0.00</td>\n",
       "      <td>2664.46</td>\n",
       "      <td>2812.23</td>\n",
       "      <td>222.56</td>\n",
       "      <td>10800.0</td>\n",
       "      <td>89.0</td>\n",
       "      <td>9.0</td>\n",
       "      <td>0.0</td>\n",
       "      <td>2.0</td>\n",
       "      <td>35</td>\n",
       "    </tr>\n",
       "  </tbody>\n",
       "</table>\n",
       "<p>77560 rows × 12 columns</p>\n",
       "</div>"
      ],
      "text/plain": [
       "       tran_amt  principal_amt  interest_amt  new_balance  starting_balance  \\\n",
       "0          0.00           0.00          0.00      3753.34            391.96   \n",
       "1        140.63         140.63          0.00      3859.95            391.96   \n",
       "2          0.49           0.00          0.49       392.94            391.96   \n",
       "3       -120.00        -120.00          0.00      2253.68            391.96   \n",
       "4       -140.00        -140.00          0.00      3753.34            391.96   \n",
       "...         ...            ...           ...          ...               ...   \n",
       "77586      0.00           0.00          0.00      2467.38           2812.23   \n",
       "77587    -59.66         -59.66          0.00      2467.38           2812.23   \n",
       "77588   -128.23        -128.23          0.00      2527.04           2812.23   \n",
       "77589     -9.19          -9.19          0.00      2655.27           2812.23   \n",
       "77590   -147.77        -147.77          0.00      2664.46           2812.23   \n",
       "\n",
       "       ending_balance   income   age  years_with_bank  nbr_children  \\\n",
       "0             3864.77  63532.0  46.0              6.0           0.0   \n",
       "1             3864.77  63532.0  46.0              6.0           0.0   \n",
       "2             3864.77  63532.0  46.0              6.0           0.0   \n",
       "3             3864.77  63532.0  46.0              6.0           0.0   \n",
       "4             3864.77  63532.0  46.0              6.0           0.0   \n",
       "...               ...      ...   ...              ...           ...   \n",
       "77586          222.56  10800.0  89.0              9.0           0.0   \n",
       "77587          222.56  10800.0  89.0              9.0           0.0   \n",
       "77588          222.56  10800.0  89.0              9.0           0.0   \n",
       "77589          222.56  10800.0  89.0              9.0           0.0   \n",
       "77590          222.56  10800.0  89.0              9.0           0.0   \n",
       "\n",
       "       marital_status  tran_week  \n",
       "0                 1.0         42  \n",
       "1                 1.0         52  \n",
       "2                 1.0          9  \n",
       "3                 1.0         23  \n",
       "4                 1.0         42  \n",
       "...               ...        ...  \n",
       "77586             2.0          3  \n",
       "77587             2.0          3  \n",
       "77588             2.0          2  \n",
       "77589             2.0         44  \n",
       "77590             2.0         35  \n",
       "\n",
       "[77560 rows x 12 columns]"
      ]
     },
     "execution_count": 29,
     "metadata": {},
     "output_type": "execute_result"
    }
   ],
   "source": [
    "no_na_data.select_dtypes(np.number)"
   ]
  },
  {
   "cell_type": "code",
   "execution_count": 30,
   "metadata": {},
   "outputs": [
    {
     "data": {
      "image/png": "[encoded data removed]",
      "text/plain": [
       "<Figure size 1296x504 with 2 Axes>"
      ]
     },
     "metadata": {},
     "output_type": "display_data"
    }
   ],
   "source": [
    "numeric_univariate(no_na_data['income'])"
   ]
  },
  {
   "cell_type": "code",
   "execution_count": 31,
   "metadata": {},
   "outputs": [
    {
     "data": {
      "text/plain": [
       "count     77560.000000\n",
       "mean      24072.116890\n",
       "std       22200.093295\n",
       "min           0.000000\n",
       "25%        8201.000000\n",
       "50%       18466.000000\n",
       "75%       33706.000000\n",
       "max      144157.000000\n",
       "Name: income, dtype: float64"
      ]
     },
     "execution_count": 31,
     "metadata": {},
     "output_type": "execute_result"
    }
   ],
   "source": [
    "no_na_data['income'].describe()"
   ]
  },
  {
   "cell_type": "code",
   "execution_count": 32,
   "metadata": {},
   "outputs": [
    {
     "data": {
      "text/plain": [
       "count    77560.000000\n",
       "mean        44.207182\n",
       "std         18.416369\n",
       "min         13.000000\n",
       "25%         30.000000\n",
       "50%         44.000000\n",
       "75%         57.000000\n",
       "max         89.000000\n",
       "Name: age, dtype: float64"
      ]
     },
     "execution_count": 32,
     "metadata": {},
     "output_type": "execute_result"
    }
   ],
   "source": [
    "no_na_data.age.describe()"
   ]
  },
  {
   "cell_type": "markdown",
   "metadata": {},
   "source": [
    "#### Binning strategies"
   ]
  },
  {
   "cell_type": "markdown",
   "metadata": {},
   "source": [
    "Age binning rationale:\n",
    "\n",
    "13-18  Pre-labour market  \n",
    "18-30  Entry/Junior  \n",
    "30-45  Intermediate/Established  \n",
    "45-60  Senior/Seasoned  \n",
    "60+    Retirement   \n"
   ]
  },
  {
   "cell_type": "markdown",
   "metadata": {},
   "source": [
    "Income binning based on [1995 US tax brackets](https://www.tax-brackets.org/federaltaxtable/1995)"
   ]
  },
  {
   "cell_type": "code",
   "execution_count": 33,
   "metadata": {},
   "outputs": [],
   "source": [
    "income_bins = pd.IntervalIndex.from_tuples([(0,0.01), (0.01, 23350.00), (23350.00, 56550.00), (56550.00, 117950.00), (117950.00, 256500.00)], closed='left')\n",
    "age_bins = pd.IntervalIndex.from_tuples([(13,18), (18, 30), (30, 45), (45, 60), (60, 1000)], closed='left')\n",
    "kids_bins = pd.IntervalIndex.from_tuples([(-1,0), (0, 3), (3, 5)], closed='right')\n",
    "\n",
    "\n",
    "no_na_data['nbr_children'] = pd.cut(no_na_data.nbr_children, kids_bins, labels=[0,1,2])\n",
    "no_na_data['age'] = pd.cut(no_na_data['age'], age_bins, labels=[1,2,3,4,5])\n",
    "no_na_data['income'] = pd.cut(no_na_data['income'], income_bins, labels=[0,1,2,3,4])"
   ]
  },
  {
   "cell_type": "code",
   "execution_count": 34,
   "metadata": {},
   "outputs": [
    {
     "data": {
      "text/plain": [
       "<AxesSubplot:ylabel='years_with_bank'>"
      ]
     },
     "execution_count": 34,
     "metadata": {},
     "output_type": "execute_result"
    },
    {
     "data": {
      "image/png": "[encoded data removed]",
      "text/plain": [
       "<Figure size 432x288 with 1 Axes>"
      ]
     },
     "metadata": {},
     "output_type": "display_data"
    }
   ],
   "source": [
    "sns.boxplot(y=no_na_data.years_with_bank)"
   ]
  },
  {
   "cell_type": "code",
   "execution_count": 35,
   "metadata": {},
   "outputs": [
    {
     "data": {
      "text/plain": [
       "count    77560.000000\n",
       "mean         3.882078\n",
       "std          2.648874\n",
       "min          0.000000\n",
       "25%          2.000000\n",
       "50%          4.000000\n",
       "75%          6.000000\n",
       "max          9.000000\n",
       "Name: years_with_bank, dtype: float64"
      ]
     },
     "execution_count": 35,
     "metadata": {},
     "output_type": "execute_result"
    }
   ],
   "source": [
    "no_na_data.years_with_bank.describe()"
   ]
  },
  {
   "cell_type": "markdown",
   "metadata": {},
   "source": [
    "Loyalty data shows a fairly even split, can be represented in quartiles"
   ]
  },
  {
   "cell_type": "code",
   "execution_count": 36,
   "metadata": {},
   "outputs": [],
   "source": [
    "loyalty_bins = pd.qcut(no_na_data.years_with_bank, 4)"
   ]
  },
  {
   "cell_type": "code",
   "execution_count": 37,
   "metadata": {},
   "outputs": [],
   "source": [
    "no_na_data.years_with_bank = loyalty_bins"
   ]
  },
  {
   "cell_type": "markdown",
   "metadata": {},
   "source": [
    "When viewed alongside continuous income values, the 0, 1-3, and 4-5 bins from nbr_children seemingly fit well together."
   ]
  },
  {
   "cell_type": "code",
   "execution_count": 38,
   "metadata": {},
   "outputs": [],
   "source": [
    "kids_bins = pd.IntervalIndex.from_tuples([(-1,0), (0, 3), (3, 5)], closed='right')\n",
    "no_na_data.nbr_children = pd.cut(no_na_data.nbr_children, kids_bins, labels=[0,1,2])"
   ]
  },
  {
   "cell_type": "code",
   "execution_count": 39,
   "metadata": {},
   "outputs": [
    {
     "data": {
      "text/html": [
       "<div>\n",
       "<style scoped>\n",
       "    .dataframe tbody tr th:only-of-type {\n",
       "        vertical-align: middle;\n",
       "    }\n",
       "\n",
       "    .dataframe tbody tr th {\n",
       "        vertical-align: top;\n",
       "    }\n",
       "\n",
       "    .dataframe thead th {\n",
       "        text-align: right;\n",
       "    }\n",
       "</style>\n",
       "<table border=\"1\" class=\"dataframe\">\n",
       "  <thead>\n",
       "    <tr style=\"text-align: right;\">\n",
       "      <th></th>\n",
       "      <th>tran_amt</th>\n",
       "      <th>principal_amt</th>\n",
       "      <th>interest_amt</th>\n",
       "      <th>new_balance</th>\n",
       "      <th>channel</th>\n",
       "      <th>tran_code</th>\n",
       "      <th>acct_type</th>\n",
       "      <th>account_active</th>\n",
       "      <th>starting_balance</th>\n",
       "      <th>ending_balance</th>\n",
       "      <th>income</th>\n",
       "      <th>age</th>\n",
       "      <th>years_with_bank</th>\n",
       "      <th>nbr_children</th>\n",
       "      <th>gender</th>\n",
       "      <th>marital_status</th>\n",
       "      <th>state_code</th>\n",
       "      <th>region</th>\n",
       "      <th>tran_week</th>\n",
       "    </tr>\n",
       "  </thead>\n",
       "  <tbody>\n",
       "    <tr>\n",
       "      <th>0</th>\n",
       "      <td>0.00</td>\n",
       "      <td>0.00</td>\n",
       "      <td>0.00</td>\n",
       "      <td>3753.34</td>\n",
       "      <td>A</td>\n",
       "      <td>IQ</td>\n",
       "      <td>SV</td>\n",
       "      <td>Y</td>\n",
       "      <td>391.96</td>\n",
       "      <td>3864.77</td>\n",
       "      <td>[56550.0, 117950.0)</td>\n",
       "      <td>[45, 60)</td>\n",
       "      <td>(4.0, 6.0]</td>\n",
       "      <td>(-1, 0]</td>\n",
       "      <td>F</td>\n",
       "      <td>1.0</td>\n",
       "      <td>CA</td>\n",
       "      <td>W</td>\n",
       "      <td>42</td>\n",
       "    </tr>\n",
       "    <tr>\n",
       "      <th>1</th>\n",
       "      <td>140.63</td>\n",
       "      <td>140.63</td>\n",
       "      <td>0.00</td>\n",
       "      <td>3859.95</td>\n",
       "      <td>B</td>\n",
       "      <td>DP</td>\n",
       "      <td>SV</td>\n",
       "      <td>Y</td>\n",
       "      <td>391.96</td>\n",
       "      <td>3864.77</td>\n",
       "      <td>[56550.0, 117950.0)</td>\n",
       "      <td>[45, 60)</td>\n",
       "      <td>(4.0, 6.0]</td>\n",
       "      <td>(-1, 0]</td>\n",
       "      <td>F</td>\n",
       "      <td>1.0</td>\n",
       "      <td>CA</td>\n",
       "      <td>W</td>\n",
       "      <td>52</td>\n",
       "    </tr>\n",
       "    <tr>\n",
       "      <th>2</th>\n",
       "      <td>0.49</td>\n",
       "      <td>0.00</td>\n",
       "      <td>0.49</td>\n",
       "      <td>392.94</td>\n",
       "      <td>UNKNOWN</td>\n",
       "      <td>IN</td>\n",
       "      <td>SV</td>\n",
       "      <td>Y</td>\n",
       "      <td>391.96</td>\n",
       "      <td>3864.77</td>\n",
       "      <td>[56550.0, 117950.0)</td>\n",
       "      <td>[45, 60)</td>\n",
       "      <td>(4.0, 6.0]</td>\n",
       "      <td>(-1, 0]</td>\n",
       "      <td>F</td>\n",
       "      <td>1.0</td>\n",
       "      <td>CA</td>\n",
       "      <td>W</td>\n",
       "      <td>9</td>\n",
       "    </tr>\n",
       "    <tr>\n",
       "      <th>3</th>\n",
       "      <td>-120.00</td>\n",
       "      <td>-120.00</td>\n",
       "      <td>0.00</td>\n",
       "      <td>2253.68</td>\n",
       "      <td>A</td>\n",
       "      <td>WD</td>\n",
       "      <td>SV</td>\n",
       "      <td>Y</td>\n",
       "      <td>391.96</td>\n",
       "      <td>3864.77</td>\n",
       "      <td>[56550.0, 117950.0)</td>\n",
       "      <td>[45, 60)</td>\n",
       "      <td>(4.0, 6.0]</td>\n",
       "      <td>(-1, 0]</td>\n",
       "      <td>F</td>\n",
       "      <td>1.0</td>\n",
       "      <td>CA</td>\n",
       "      <td>W</td>\n",
       "      <td>23</td>\n",
       "    </tr>\n",
       "    <tr>\n",
       "      <th>4</th>\n",
       "      <td>-140.00</td>\n",
       "      <td>-140.00</td>\n",
       "      <td>0.00</td>\n",
       "      <td>3753.34</td>\n",
       "      <td>A</td>\n",
       "      <td>WD</td>\n",
       "      <td>SV</td>\n",
       "      <td>Y</td>\n",
       "      <td>391.96</td>\n",
       "      <td>3864.77</td>\n",
       "      <td>[56550.0, 117950.0)</td>\n",
       "      <td>[45, 60)</td>\n",
       "      <td>(4.0, 6.0]</td>\n",
       "      <td>(-1, 0]</td>\n",
       "      <td>F</td>\n",
       "      <td>1.0</td>\n",
       "      <td>CA</td>\n",
       "      <td>W</td>\n",
       "      <td>42</td>\n",
       "    </tr>\n",
       "  </tbody>\n",
       "</table>\n",
       "</div>"
      ],
      "text/plain": [
       "   tran_amt  principal_amt  interest_amt  new_balance  channel tran_code  \\\n",
       "0      0.00           0.00          0.00      3753.34        A        IQ   \n",
       "1    140.63         140.63          0.00      3859.95        B        DP   \n",
       "2      0.49           0.00          0.49       392.94  UNKNOWN        IN   \n",
       "3   -120.00        -120.00          0.00      2253.68        A        WD   \n",
       "4   -140.00        -140.00          0.00      3753.34        A        WD   \n",
       "\n",
       "  acct_type account_active  starting_balance  ending_balance  \\\n",
       "0        SV              Y            391.96         3864.77   \n",
       "1        SV              Y            391.96         3864.77   \n",
       "2        SV              Y            391.96         3864.77   \n",
       "3        SV              Y            391.96         3864.77   \n",
       "4        SV              Y            391.96         3864.77   \n",
       "\n",
       "                income       age years_with_bank nbr_children gender  \\\n",
       "0  [56550.0, 117950.0)  [45, 60)      (4.0, 6.0]      (-1, 0]      F   \n",
       "1  [56550.0, 117950.0)  [45, 60)      (4.0, 6.0]      (-1, 0]      F   \n",
       "2  [56550.0, 117950.0)  [45, 60)      (4.0, 6.0]      (-1, 0]      F   \n",
       "3  [56550.0, 117950.0)  [45, 60)      (4.0, 6.0]      (-1, 0]      F   \n",
       "4  [56550.0, 117950.0)  [45, 60)      (4.0, 6.0]      (-1, 0]      F   \n",
       "\n",
       "   marital_status state_code region  tran_week  \n",
       "0             1.0         CA      W         42  \n",
       "1             1.0         CA      W         52  \n",
       "2             1.0         CA      W          9  \n",
       "3             1.0         CA      W         23  \n",
       "4             1.0         CA      W         42  "
      ]
     },
     "execution_count": 39,
     "metadata": {},
     "output_type": "execute_result"
    }
   ],
   "source": [
    "no_na_data.head()"
   ]
  },
  {
   "cell_type": "markdown",
   "metadata": {},
   "source": [
    "#### Converting explicitly binned columns into ordinal columns using integer category codes"
   ]
  },
  {
   "cell_type": "code",
   "execution_count": 40,
   "metadata": {},
   "outputs": [],
   "source": [
    "processed = no_na_data.copy()"
   ]
  },
  {
   "cell_type": "code",
   "execution_count": 41,
   "metadata": {},
   "outputs": [],
   "source": [
    "processed.income = processed.income.cat.codes"
   ]
  },
  {
   "cell_type": "code",
   "execution_count": 42,
   "metadata": {},
   "outputs": [],
   "source": [
    "processed.age = processed.age.cat.codes"
   ]
  },
  {
   "cell_type": "code",
   "execution_count": 43,
   "metadata": {},
   "outputs": [],
   "source": [
    "processed.nbr_children = processed.nbr_children.cat.codes"
   ]
  },
  {
   "cell_type": "code",
   "execution_count": 44,
   "metadata": {},
   "outputs": [],
   "source": [
    "processed.years_with_bank = processed.years_with_bank.cat.codes"
   ]
  },
  {
   "cell_type": "code",
   "execution_count": 45,
   "metadata": {},
   "outputs": [
    {
     "data": {
      "text/html": [
       "<div>\n",
       "<style scoped>\n",
       "    .dataframe tbody tr th:only-of-type {\n",
       "        vertical-align: middle;\n",
       "    }\n",
       "\n",
       "    .dataframe tbody tr th {\n",
       "        vertical-align: top;\n",
       "    }\n",
       "\n",
       "    .dataframe thead th {\n",
       "        text-align: right;\n",
       "    }\n",
       "</style>\n",
       "<table border=\"1\" class=\"dataframe\">\n",
       "  <thead>\n",
       "    <tr style=\"text-align: right;\">\n",
       "      <th></th>\n",
       "      <th>tran_amt</th>\n",
       "      <th>principal_amt</th>\n",
       "      <th>interest_amt</th>\n",
       "      <th>new_balance</th>\n",
       "      <th>channel</th>\n",
       "      <th>tran_code</th>\n",
       "      <th>acct_type</th>\n",
       "      <th>account_active</th>\n",
       "      <th>starting_balance</th>\n",
       "      <th>ending_balance</th>\n",
       "      <th>income</th>\n",
       "      <th>age</th>\n",
       "      <th>years_with_bank</th>\n",
       "      <th>nbr_children</th>\n",
       "      <th>gender</th>\n",
       "      <th>marital_status</th>\n",
       "      <th>state_code</th>\n",
       "      <th>region</th>\n",
       "      <th>tran_week</th>\n",
       "    </tr>\n",
       "  </thead>\n",
       "  <tbody>\n",
       "    <tr>\n",
       "      <th>0</th>\n",
       "      <td>0.00</td>\n",
       "      <td>0.00</td>\n",
       "      <td>0.00</td>\n",
       "      <td>3753.34</td>\n",
       "      <td>A</td>\n",
       "      <td>IQ</td>\n",
       "      <td>SV</td>\n",
       "      <td>Y</td>\n",
       "      <td>391.96</td>\n",
       "      <td>3864.77</td>\n",
       "      <td>3</td>\n",
       "      <td>3</td>\n",
       "      <td>2</td>\n",
       "      <td>0</td>\n",
       "      <td>F</td>\n",
       "      <td>1.0</td>\n",
       "      <td>CA</td>\n",
       "      <td>W</td>\n",
       "      <td>42</td>\n",
       "    </tr>\n",
       "    <tr>\n",
       "      <th>1</th>\n",
       "      <td>140.63</td>\n",
       "      <td>140.63</td>\n",
       "      <td>0.00</td>\n",
       "      <td>3859.95</td>\n",
       "      <td>B</td>\n",
       "      <td>DP</td>\n",
       "      <td>SV</td>\n",
       "      <td>Y</td>\n",
       "      <td>391.96</td>\n",
       "      <td>3864.77</td>\n",
       "      <td>3</td>\n",
       "      <td>3</td>\n",
       "      <td>2</td>\n",
       "      <td>0</td>\n",
       "      <td>F</td>\n",
       "      <td>1.0</td>\n",
       "      <td>CA</td>\n",
       "      <td>W</td>\n",
       "      <td>52</td>\n",
       "    </tr>\n",
       "    <tr>\n",
       "      <th>2</th>\n",
       "      <td>0.49</td>\n",
       "      <td>0.00</td>\n",
       "      <td>0.49</td>\n",
       "      <td>392.94</td>\n",
       "      <td>UNKNOWN</td>\n",
       "      <td>IN</td>\n",
       "      <td>SV</td>\n",
       "      <td>Y</td>\n",
       "      <td>391.96</td>\n",
       "      <td>3864.77</td>\n",
       "      <td>3</td>\n",
       "      <td>3</td>\n",
       "      <td>2</td>\n",
       "      <td>0</td>\n",
       "      <td>F</td>\n",
       "      <td>1.0</td>\n",
       "      <td>CA</td>\n",
       "      <td>W</td>\n",
       "      <td>9</td>\n",
       "    </tr>\n",
       "    <tr>\n",
       "      <th>3</th>\n",
       "      <td>-120.00</td>\n",
       "      <td>-120.00</td>\n",
       "      <td>0.00</td>\n",
       "      <td>2253.68</td>\n",
       "      <td>A</td>\n",
       "      <td>WD</td>\n",
       "      <td>SV</td>\n",
       "      <td>Y</td>\n",
       "      <td>391.96</td>\n",
       "      <td>3864.77</td>\n",
       "      <td>3</td>\n",
       "      <td>3</td>\n",
       "      <td>2</td>\n",
       "      <td>0</td>\n",
       "      <td>F</td>\n",
       "      <td>1.0</td>\n",
       "      <td>CA</td>\n",
       "      <td>W</td>\n",
       "      <td>23</td>\n",
       "    </tr>\n",
       "    <tr>\n",
       "      <th>4</th>\n",
       "      <td>-140.00</td>\n",
       "      <td>-140.00</td>\n",
       "      <td>0.00</td>\n",
       "      <td>3753.34</td>\n",
       "      <td>A</td>\n",
       "      <td>WD</td>\n",
       "      <td>SV</td>\n",
       "      <td>Y</td>\n",
       "      <td>391.96</td>\n",
       "      <td>3864.77</td>\n",
       "      <td>3</td>\n",
       "      <td>3</td>\n",
       "      <td>2</td>\n",
       "      <td>0</td>\n",
       "      <td>F</td>\n",
       "      <td>1.0</td>\n",
       "      <td>CA</td>\n",
       "      <td>W</td>\n",
       "      <td>42</td>\n",
       "    </tr>\n",
       "  </tbody>\n",
       "</table>\n",
       "</div>"
      ],
      "text/plain": [
       "   tran_amt  principal_amt  interest_amt  new_balance  channel tran_code  \\\n",
       "0      0.00           0.00          0.00      3753.34        A        IQ   \n",
       "1    140.63         140.63          0.00      3859.95        B        DP   \n",
       "2      0.49           0.00          0.49       392.94  UNKNOWN        IN   \n",
       "3   -120.00        -120.00          0.00      2253.68        A        WD   \n",
       "4   -140.00        -140.00          0.00      3753.34        A        WD   \n",
       "\n",
       "  acct_type account_active  starting_balance  ending_balance  income  age  \\\n",
       "0        SV              Y            391.96         3864.77       3    3   \n",
       "1        SV              Y            391.96         3864.77       3    3   \n",
       "2        SV              Y            391.96         3864.77       3    3   \n",
       "3        SV              Y            391.96         3864.77       3    3   \n",
       "4        SV              Y            391.96         3864.77       3    3   \n",
       "\n",
       "   years_with_bank  nbr_children gender  marital_status state_code region  \\\n",
       "0                2             0      F             1.0         CA      W   \n",
       "1                2             0      F             1.0         CA      W   \n",
       "2                2             0      F             1.0         CA      W   \n",
       "3                2             0      F             1.0         CA      W   \n",
       "4                2             0      F             1.0         CA      W   \n",
       "\n",
       "   tran_week  \n",
       "0         42  \n",
       "1         52  \n",
       "2          9  \n",
       "3         23  \n",
       "4         42  "
      ]
     },
     "execution_count": 45,
     "metadata": {},
     "output_type": "execute_result"
    }
   ],
   "source": [
    "processed.head()"
   ]
  },
  {
   "cell_type": "markdown",
   "metadata": {},
   "source": [
    "### 18 features and 77560 observations for computing Gower's distances"
   ]
  },
  {
   "cell_type": "code",
   "execution_count": 46,
   "metadata": {},
   "outputs": [],
   "source": [
    "gower_input = processed.copy()"
   ]
  },
  {
   "cell_type": "code",
   "execution_count": 47,
   "metadata": {},
   "outputs": [],
   "source": [
    "gower_input = gower_input.drop('state_code', axis=1)"
   ]
  },
  {
   "cell_type": "code",
   "execution_count": 48,
   "metadata": {},
   "outputs": [],
   "source": [
    "# Save the processed csv file to use in Gower's distance computations.\n",
    "# gower_input.to_csv('gower_input.csv', index=False)"
   ]
  }
 ],
 "metadata": {
  "interpreter": {
   "hash": "8d6676aaa1277e38a8b007c79f4c02c0460f54b902bd054fa5584050907dc207"
  },
  "kernelspec": {
   "display_name": "Python 3.9.7 64-bit ('LHL': conda)",
   "language": "python",
   "name": "python3"
  },
  "language_info": {
   "codemirror_mode": {
    "name": "ipython",
    "version": 3
   },
   "file_extension": ".py",
   "mimetype": "text/x-python",
   "name": "python",
   "nbconvert_exporter": "python",
   "pygments_lexer": "ipython3",
   "version": "3.9.7"
  },
  "orig_nbformat": 4
 },
 "nbformat": 4,
 "nbformat_minor": 2
}
